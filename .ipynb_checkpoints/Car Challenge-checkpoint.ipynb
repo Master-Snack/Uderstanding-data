{
 "cells": [
  {
   "cell_type": "markdown",
   "metadata": {},
   "source": [
    "Libraries imports"
   ]
  },
  {
   "cell_type": "code",
   "execution_count": 5,
   "metadata": {},
   "outputs": [],
   "source": [
    "import numpy as np\n",
    "import pandas as pd\n",
    "import matplotlib.pyplot as plt\n",
    "import scipy.stats as spy\n",
    "import seaborn as sns"
   ]
  },
  {
   "cell_type": "markdown",
   "metadata": {},
   "source": [
    "Read car_design.csv data"
   ]
  },
  {
   "cell_type": "code",
   "execution_count": 3,
   "metadata": {},
   "outputs": [],
   "source": [
    "df = pd.DataFrame(pd.read_csv('data/car_design.csv'))"
   ]
  },
  {
   "cell_type": "markdown",
   "metadata": {},
   "source": [
    "Display first 5 rows of dataframe"
   ]
  },
  {
   "cell_type": "code",
   "execution_count": null,
   "metadata": {},
   "outputs": [],
   "source": [
    "df.head()"
   ]
  },
  {
   "cell_type": "markdown",
   "metadata": {},
   "source": [
    "## (A) : Data Wrangling"
   ]
  },
  {
   "cell_type": "markdown",
   "metadata": {},
   "source": [
    "### Qs 1 : State the dimensions of the dataset, mention rows and columns. "
   ]
  },
  {
   "cell_type": "markdown",
   "metadata": {},
   "source": [
    "Dimention of dataset"
   ]
  },
  {
   "cell_type": "code",
   "execution_count": null,
   "metadata": {},
   "outputs": [],
   "source": [
    "print(\"Dataset is of \", df.ndim, \" dimension.\")"
   ]
  },
  {
   "cell_type": "markdown",
   "metadata": {},
   "source": [
    "Rows and column of dataset"
   ]
  },
  {
   "cell_type": "code",
   "execution_count": null,
   "metadata": {},
   "outputs": [],
   "source": [
    "print(\"Dataset has \", df.shape[0], \" rows.\",\"\\nDataset has \", df.shape[1], \" columns.\")"
   ]
  },
  {
   "cell_type": "markdown",
   "metadata": {},
   "source": [
    "### Qs 2  : State the data types  ie how many attributes are numeric and non mumeric "
   ]
  },
  {
   "cell_type": "markdown",
   "metadata": {},
   "source": [
    "Datatypes"
   ]
  },
  {
   "cell_type": "code",
   "execution_count": null,
   "metadata": {},
   "outputs": [],
   "source": [
    "print(\"Data Types :\")\n",
    "print(df.dtypes)"
   ]
  },
  {
   "cell_type": "markdown",
   "metadata": {},
   "source": [
    "Total number of numeric and non numeric attributes"
   ]
  },
  {
   "cell_type": "code",
   "execution_count": null,
   "metadata": {},
   "outputs": [],
   "source": [
    "cnt = [1 for i in df.columns if df[i].dtypes == \"int64\" or df[i].dtypes == \"float64\"]\n",
    "print(\"Numeric attributes are : \", sum(cnt), \"\\nNon-Numeric attributes are : \",len(df.columns)-sum(cnt))"
   ]
  },
  {
   "cell_type": "markdown",
   "metadata": {},
   "source": [
    "### Qs 3 : Dataset contains junk value \"?\", therefore replace it with NaN and state then state the columns wise null values."
   ]
  },
  {
   "cell_type": "markdown",
   "metadata": {},
   "source": [
    "Replace \"?\" with NaN in the database"
   ]
  },
  {
   "cell_type": "code",
   "execution_count": null,
   "metadata": {},
   "outputs": [],
   "source": [
    "df = df.replace(\"?\", np.nan)\n",
    "df.head()"
   ]
  },
  {
   "cell_type": "markdown",
   "metadata": {},
   "source": [
    "Columns wise null values"
   ]
  },
  {
   "cell_type": "code",
   "execution_count": null,
   "metadata": {},
   "outputs": [],
   "source": [
    "df[df.columns[df.isnull().any()]].isnull().sum()"
   ]
  },
  {
   "cell_type": "markdown",
   "metadata": {},
   "source": [
    "### Qs 4 : Fill the missing data of normalised-losses, price, horsepower, peak-rpm, bore, stroke with the respective column mean and fill missing data of Number of doors column with the mode of the column i.e. Four.\n"
   ]
  },
  {
   "cell_type": "markdown",
   "metadata": {},
   "source": [
    "Replace missing data of normalised-losses, price, horsepower, peak-rpm, bore, stroke with the respective column mean"
   ]
  },
  {
   "cell_type": "code",
   "execution_count": null,
   "metadata": {},
   "outputs": [],
   "source": [
    "for i in ['normalized-losses', 'bore', 'stroke', 'horsepower', 'peak-rpm', 'price']:\n",
    "    df[i] = df[i].fillna(round(df[i].dropna().astype('float64').mean(),2))"
   ]
  },
  {
   "cell_type": "markdown",
   "metadata": {},
   "source": [
    "Fill missing data of Number of doors column with the mode of the column i.e. Four"
   ]
  },
  {
   "cell_type": "code",
   "execution_count": null,
   "metadata": {},
   "outputs": [],
   "source": [
    "no_of_doors = {\"one\":1, \"two\":2, \"three\":3, \"four\":4}\n",
    "num = spy.mode([no_of_doors.get(i) for i in df['num-of-doors'] if i in no_of_doors])\n",
    "df['num-of-doors'] = df['num-of-doors'].fillna(list(no_of_doors.keys())[list(no_of_doors.values()).index(num.mode[0])])\n",
    "df.info()"
   ]
  },
  {
   "cell_type": "markdown",
   "metadata": {},
   "source": [
    "## (B) Summary Statistics "
   ]
  },
  {
   "cell_type": "markdown",
   "metadata": {},
   "source": [
    "### Qs 5 : Display the statistical properties of all the  numeric attributes and  write your observations"
   ]
  },
  {
   "cell_type": "markdown",
   "metadata": {},
   "source": [
    "Statistical properties of all the numeric attributes"
   ]
  },
  {
   "cell_type": "code",
   "execution_count": null,
   "metadata": {},
   "outputs": [],
   "source": [
    "df.describe()"
   ]
  },
  {
   "cell_type": "markdown",
   "metadata": {},
   "source": [
    "Observations"
   ]
  },
  {
   "cell_type": "markdown",
   "metadata": {},
   "source": [
    " Maximum value for symboling, engine-size, compression-ratio column is an outlier as it is much greater than mean value."
   ]
  },
  {
   "cell_type": "markdown",
   "metadata": {},
   "source": [
    "### Some Extra Inferences:"
   ]
  },
  {
   "cell_type": "code",
   "execution_count": null,
   "metadata": {},
   "outputs": [],
   "source": [
    "print(df[df['symboling'] == -2]['make'].unique())\n",
    "print(df[df['symboling'] == 3]['make'].unique())\n",
    "print(df[df['symboling'] == 0]['make'].unique())"
   ]
  },
  {
   "cell_type": "markdown",
   "metadata": {},
   "source": [
    "From above results we can say that:\n",
    "\n",
    "    1.Symboling of 11 auto makers is 3 which indicates that cars are not safe.\n",
    "    2.Symboling of Volvo i.e -2 shows that it has safest cars and no other Auto company.\n",
    "    3.Symboling of 14 auto makers shows that the risk level is neutral or there is no risk."
   ]
  },
  {
   "cell_type": "markdown",
   "metadata": {},
   "source": [
    "## (C) Data Visualization "
   ]
  },
  {
   "cell_type": "markdown",
   "metadata": {},
   "source": [
    "### Qs 6 :  Plot histograms of the following numerical attributes -- \"engine-size\", \"peak-rpm\",\"horsepower\",\"price\" and state your findings."
   ]
  },
  {
   "cell_type": "code",
   "execution_count": null,
   "metadata": {},
   "outputs": [],
   "source": [
    "hist_col_names = [\"engine-size\", \"peak-rpm\",\"horsepower\",\"price\"]\n",
    "for i in hist_col_names:\n",
    "    df[i] = df[i].astype(float) # It changes data type\n",
    "\n",
    "plt.figure(figsize=(15,15))\n",
    "cnt=1\n",
    "for i in hist_col_names:\n",
    "    plt.subplot(4,2,cnt)\n",
    "    sns.distplot(df[i], hist=True, color = 'darkblue', kde_kws={'linewidth': 4})\n",
    "    plt.title(i)\n",
    "    cnt=cnt+1\n",
    "plt.tight_layout()\n",
    "plt.show()"
   ]
  },
  {
   "cell_type": "markdown",
   "metadata": {},
   "source": [
    "Findings"
   ]
  },
  {
   "cell_type": "markdown",
   "metadata": {},
   "source": [
    "    1) In Engine-size, data is more accumulated towards between 50 to 200, which also states that it is positively skewed.\n",
    "    2) Most of the data is accumulated towards left of the mean. \n",
    "    3) As we can see peak-rpm histogram plot shows no skewness visually but if we compute the skewness mathematically, it turns out to be negligible but on the positive side."
   ]
  },
  {
   "cell_type": "markdown",
   "metadata": {},
   "source": [
    "### Qs 7 : Plot a correlation matrix of all the attributes and state the findings."
   ]
  },
  {
   "cell_type": "code",
   "execution_count": null,
   "metadata": {},
   "outputs": [],
   "source": [
    "corr = df.corr()\n",
    "fig, ax = plt.subplots(figsize=(12,9))\n",
    "sns.heatmap(corr, annot=True)\n",
    "ax.set_xticklabels(ax.get_xticklabels(), rotation=45);\n",
    "plt.show()"
   ]
  },
  {
   "cell_type": "markdown",
   "metadata": {},
   "source": [
    "Findings"
   ]
  },
  {
   "cell_type": "markdown",
   "metadata": {},
   "source": [
    "    1) The indicator displayed in the right hand side of the heat map indicates the relation going positive to negtaive as we go from top to bottom. \n",
    "    2) In heat map of the corealtion matrix we can see that the diagonal values from the left-top corner to right-bottom corner is 1, because it shows the corelation of the column with itself.\n",
    "    3) In this we found out that, city-mpg and highway-mpg have a highest positive corelation i.e. 0.97,\n",
    "    4) Similarly city-mpg and horsepower & highway-mpg and curb-weight have lowest negative corelation i.e. -0.8.\n",
    "    "
   ]
  },
  {
   "cell_type": "markdown",
   "metadata": {},
   "source": [
    "### Qs 8 : How are the various elements of the attribute \"body-style\" related to price ? State your findings through boxplots"
   ]
  },
  {
   "cell_type": "code",
   "execution_count": null,
   "metadata": {},
   "outputs": [],
   "source": [
    "body_styles = list(df['body-style'].unique()) #It return unique values of column\n",
    "body_styles_list = []\n",
    "for i in body_styles:\n",
    "    body_styles_list.append(df['price'][df['body-style']==i])"
   ]
  },
  {
   "cell_type": "code",
   "execution_count": null,
   "metadata": {},
   "outputs": [],
   "source": [
    "plt.figure(figsize=(12, 9))\n",
    "sns.boxplot(df['body-style'], y=df['price'], linewidth=2.5, palette ='Set2')\n",
    "plt.show()"
   ]
  },
  {
   "cell_type": "markdown",
   "metadata": {},
   "source": [
    "Findings"
   ]
  },
  {
   "cell_type": "markdown",
   "metadata": {},
   "source": [
    "Here we can see that the  hatchback cars are in the lowest price range  and hardtop cars are in the highest price range."
   ]
  },
  {
   "cell_type": "markdown",
   "metadata": {},
   "source": [
    "### Qs 9 : How are the various attributes of the \"make\" columns related to price ..State your findings through boxplots."
   ]
  },
  {
   "cell_type": "code",
   "execution_count": null,
   "metadata": {},
   "outputs": [],
   "source": [
    "plt.figure(figsize=(12, 9))\n",
    "ax = sns.boxplot(df['price'], df['make'], linewidth=1.5,orient='h', palette ='Set2')"
   ]
  },
  {
   "cell_type": "markdown",
   "metadata": {},
   "source": [
    "Findings"
   ]
  },
  {
   "cell_type": "markdown",
   "metadata": {},
   "source": [
    "Here we can see that according to make Cars are divided into 3 categories according to price:\n",
    "1. Low Price(5000-12000)-  Chevrolet, Dodge, Honda etc.\n",
    "2. Medium Price Category(12000-20000)- Volvo, Peugot, Mercury etc.\n",
    "3. High Price Category(20000 and above)- BMW, Jaguar, Mercedes-benz etc."
   ]
  },
  {
   "cell_type": "markdown",
   "metadata": {},
   "source": [
    "### Here we check co-relation between Engine-Size and Price"
   ]
  },
  {
   "cell_type": "code",
   "execution_count": null,
   "metadata": {},
   "outputs": [],
   "source": [
    "x=df['engine-size']\n",
    "y=df['price']\n",
    "a=spy.pearsonr(x, y)\n",
    "print(\"Coefficient of Co-relation: \", a[0])\n",
    "sns.lmplot(x=\"engine-size\", y=\"price\", data=df);"
   ]
  },
  {
   "cell_type": "markdown",
   "metadata": {},
   "source": [
    "We can observe that Engine-Size is directly co-related to Price, so we can say that if Engine-size increases Price will also increase."
   ]
  },
  {
   "cell_type": "markdown",
   "metadata": {},
   "source": [
    "#### Here we checkco-relation between City-MPG and Highway-MPG"
   ]
  },
  {
   "cell_type": "code",
   "execution_count": null,
   "metadata": {},
   "outputs": [],
   "source": [
    "x=df['city-mpg']\n",
    "y=df['highway-mpg']\n",
    "a=spy.pearsonr(x, y)\n",
    "print(\"Coefficient of Co-relation: \",a[0])\n",
    "sns.lmplot(x=\"city-mpg\", y=\"highway-mpg\", data=df);"
   ]
  },
  {
   "cell_type": "markdown",
   "metadata": {},
   "source": [
    "We can see that City-mpg and Highway-Mpg share a high co-relation so we can say that if city-mpg increases highway-mpg will also increase."
   ]
  },
  {
   "cell_type": "markdown",
   "metadata": {},
   "source": [
    "### Here we find co-realation between city-mpg and Engine-size."
   ]
  },
  {
   "cell_type": "code",
   "execution_count": null,
   "metadata": {},
   "outputs": [],
   "source": [
    "y=df['city-mpg']\n",
    "x=df['engine-size']\n",
    "a=spy.pearsonr(x, y)\n",
    "print(\"Coefficient of Co-relation: \", a[0])\n",
    "print(spy.spearmanr(x, y)) \n",
    "sns.lmplot(y=\"city-mpg\", x=\"engine-size\", data=df);"
   ]
  },
  {
   "cell_type": "markdown",
   "metadata": {},
   "source": [
    "We observe that engine-size is negatively moderately related to city-mpg, so we can say that if Engine-size increases, city-mpg decreases.  "
   ]
  },
  {
   "cell_type": "markdown",
   "metadata": {},
   "source": [
    "### Here we plotted Drive-wheels against price to find price range."
   ]
  },
  {
   "cell_type": "code",
   "execution_count": null,
   "metadata": {},
   "outputs": [],
   "source": [
    "plt.figure(figsize=(8,8))\n",
    "sns.boxplot(x=\"drive-wheels\", y=\"price\", data=df,linewidth=1.5, palette ='Set2')"
   ]
  },
  {
   "cell_type": "markdown",
   "metadata": {},
   "source": [
    "Here we can clearly see that:\n",
    "1. Rear Wheel Drive cars are high priced i.e. in range 12000 to 36000\n",
    "2. Forward Wheel Drive cars are lowest priced i.e. in range 5000 to 15000 "
   ]
  },
  {
   "cell_type": "markdown",
   "metadata": {},
   "source": [
    "### Here we found the average price according to drive-wheels"
   ]
  },
  {
   "cell_type": "code",
   "execution_count": null,
   "metadata": {},
   "outputs": [],
   "source": [
    "df_group=df[['drive-wheels', 'body-style', 'price']]\n",
    "drive_wheel_avg=df_group.groupby(['drive-wheels'], as_index=False).mean()\n",
    "drive_wheel_avg"
   ]
  },
  {
   "cell_type": "markdown",
   "metadata": {},
   "source": [
    "Average price of Rear Wheel Drive is the highest while for Front wheel and 4 Wheel are approximately same. "
   ]
  },
  {
   "cell_type": "markdown",
   "metadata": {},
   "source": [
    "### Here we calculated average price of Drive-wheel according to the body-style."
   ]
  },
  {
   "cell_type": "code",
   "execution_count": null,
   "metadata": {},
   "outputs": [],
   "source": [
    "group_avg=df_group.groupby(['drive-wheels','body-style'] , as_index=False).mean()\n",
    "group_avg"
   ]
  },
  {
   "cell_type": "markdown",
   "metadata": {},
   "source": [
    "Here we can see the price of Drive-Wheel according to Body-Type"
   ]
  },
  {
   "cell_type": "markdown",
   "metadata": {},
   "source": [
    "### Here we Converted the above table into pivot table to get a precise view to understand better."
   ]
  },
  {
   "cell_type": "code",
   "execution_count": null,
   "metadata": {},
   "outputs": [],
   "source": [
    "pivot_table=group_avg.pivot(index='drive-wheels', columns='body-style')\n",
    "pivot_table=pivot_table.fillna('Not Applicable')\n",
    "pivot_table"
   ]
  },
  {
   "cell_type": "markdown",
   "metadata": {},
   "source": [
    "# So by all this analysis we can draw a conclusion that we can Price our car acccording to the avearge price of that category which is mentioned in the above table."
   ]
  }
 ],
 "metadata": {
  "kernelspec": {
   "display_name": "Python 3",
   "language": "python",
   "name": "python3"
  },
  "language_info": {
   "codemirror_mode": {
    "name": "ipython",
    "version": 3
   },
   "file_extension": ".py",
   "mimetype": "text/x-python",
   "name": "python",
   "nbconvert_exporter": "python",
   "pygments_lexer": "ipython3",
   "version": "3.7.6"
  }
 },
 "nbformat": 4,
 "nbformat_minor": 2
}
